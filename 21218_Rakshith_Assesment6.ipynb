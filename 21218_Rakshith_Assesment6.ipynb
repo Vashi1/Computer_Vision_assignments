{
  "nbformat": 4,
  "nbformat_minor": 0,
  "metadata": {
    "colab": {
      "provenance": [],
      "authorship_tag": "ABX9TyP2Ik0V0/JX+UDry+VQpdVo",
      "include_colab_link": true
    },
    "kernelspec": {
      "name": "python3",
      "display_name": "Python 3"
    },
    "language_info": {
      "name": "python"
    }
  },
  "cells": [
    {
      "cell_type": "markdown",
      "metadata": {
        "id": "view-in-github",
        "colab_type": "text"
      },
      "source": [
        "<a href=\"https://colab.research.google.com/github/Vashi1/Computer_Vision_assignments/blob/main/21218_Rakshith_Assesment6.ipynb\" target=\"_parent\"><img src=\"https://colab.research.google.com/assets/colab-badge.svg\" alt=\"Open In Colab\"/></a>"
      ]
    },
    {
      "cell_type": "markdown",
      "source": [
        "# Arrays"
      ],
      "metadata": {
        "id": "O1xPYRCgMvXe"
      }
    },
    {
      "cell_type": "code",
      "source": [
        "import numpy as np"
      ],
      "metadata": {
        "id": "_46bVO8KMnAO"
      },
      "execution_count": 4,
      "outputs": []
    },
    {
      "cell_type": "code",
      "source": [
        "import array\n",
        "import random\n",
        "x = random.sample(range(0, 29), 10)\n",
        "a1 = array.array('b', x)\n",
        "print(a1)\n",
        "print(\"Traversal\")\n",
        "for a in a1:\n",
        "  print(a, end = \" \")\n",
        "print()\n",
        "print(\"Insertion: \")\n",
        "a1.insert(1, 98)\n",
        "print(a1)\n",
        "print(\"Deletion\")\n",
        "a1.pop(1)\n",
        "print(a1)\n",
        "print(\"Search\")\n",
        "ele = int(input(\"Enter element to be searched: \"))\n",
        "for i in range(len(a1)):\n",
        "  if a1[i] == ele:\n",
        "    print(i)\n",
        "    break\n",
        "else:\n",
        "  print(\"Element not found\")\n",
        "print(\"Updation\")\n",
        "a1[3] = 87\n",
        "print(a1)\n",
        "print()\n",
        "\n",
        "a2 = array.array(\"B\", x)\n",
        "print(a2)\n",
        "print(\"Traversal\")\n",
        "for a in a2:\n",
        "  print(a, end = \" \")\n",
        "print()\n",
        "print(\"Insertion: \")\n",
        "a1.insert(1, 8)\n",
        "print(a2)\n",
        "print(\"Deletion\")\n",
        "a1.pop(1)\n",
        "print(a2)\n",
        "print(\"Search\")\n",
        "ele = int(input(\"Enter element to be searched: \"))\n",
        "for i in range(len(a2)):\n",
        "  if a2[i] == ele:\n",
        "    print(i)\n",
        "    break\n",
        "else:\n",
        "  print(\"Element not found\")\n",
        "print(\"Updation\")\n",
        "a2[3] = 84\n",
        "print(a2)\n",
        "print()\n",
        "\n",
        "a3 = array.array('f', x)\n",
        "print(a3)\n",
        "print(\"Traversal\")\n",
        "for a in a3:\n",
        "  print(a, end = \" \")\n",
        "print()\n",
        "print(\"Insertion: \")\n",
        "a1.insert(1, 98)\n",
        "print(a3)\n",
        "print(\"Deletion\")\n",
        "a1.pop(1)\n",
        "print(a3)\n",
        "print(\"Search\")\n",
        "ele = int(input(\"Enter element to be searched: \"))\n",
        "for i in range(len(a3)):\n",
        "  if a3[i] == ele:\n",
        "    print(i)\n",
        "    break\n",
        "else:\n",
        "  print(\"Element not found\")\n",
        "print(\"Updation\")\n",
        "a3[3] = 87\n",
        "print(a3)\n",
        "print()\n",
        "\n",
        "a4 = array.array('d', x)\n",
        "print(a4)\n",
        "print(\"Traversal\")\n",
        "for a in a4:\n",
        "  print(a, end = \" \")\n",
        "print()\n",
        "print(\"Insertion: \")\n",
        "a1.insert(1, 98)\n",
        "print(a4)\n",
        "print(\"Deletion\")\n",
        "a1.pop(1)\n",
        "print(a4)\n",
        "print(\"Search\")\n",
        "ele = int(input(\"Enter element to be searched: \"))\n",
        "for i in range(len(a4)):\n",
        "  if a4[i] == ele:\n",
        "    print(i)\n",
        "    break\n",
        "else:\n",
        "  print(\"Element not found\")\n",
        "print(\"Updation\")\n",
        "a4[3] = 87\n",
        "print(a4)\n",
        "print()"
      ],
      "metadata": {
        "colab": {
          "base_uri": "https://localhost:8080/"
        },
        "id": "5rsMCC5vOpyc",
        "outputId": "aa9e0dd7-267d-4fd0-98dc-aa7dc10f8f8a"
      },
      "execution_count": 59,
      "outputs": [
        {
          "output_type": "stream",
          "name": "stdout",
          "text": [
            "array('b', [24, 2, 13, 3, 19, 1, 18, 8, 20, 15])\n",
            "Traversal\n",
            "24 2 13 3 19 1 18 8 20 15 \n",
            "Insertion: \n",
            "array('b', [24, 98, 2, 13, 3, 19, 1, 18, 8, 20, 15])\n",
            "Deletion\n",
            "array('b', [24, 2, 13, 3, 19, 1, 18, 8, 20, 15])\n",
            "Search\n",
            "Enter element to be searched: 321\n",
            "Element not found\n",
            "Updation\n",
            "array('b', [24, 2, 13, 87, 19, 1, 18, 8, 20, 15])\n",
            "\n",
            "array('B', [24, 2, 13, 3, 19, 1, 18, 8, 20, 15])\n",
            "Traversal\n",
            "24 2 13 3 19 1 18 8 20 15 \n",
            "Insertion: \n",
            "array('B', [24, 2, 13, 3, 19, 1, 18, 8, 20, 15])\n",
            "Deletion\n",
            "array('B', [24, 2, 13, 3, 19, 1, 18, 8, 20, 15])\n",
            "Search\n",
            "Enter element to be searched: 24\n",
            "0\n",
            "Updation\n",
            "array('B', [24, 2, 13, 84, 19, 1, 18, 8, 20, 15])\n",
            "\n",
            "array('f', [24.0, 2.0, 13.0, 3.0, 19.0, 1.0, 18.0, 8.0, 20.0, 15.0])\n",
            "Traversal\n",
            "24.0 2.0 13.0 3.0 19.0 1.0 18.0 8.0 20.0 15.0 \n",
            "Insertion: \n",
            "array('f', [24.0, 2.0, 13.0, 3.0, 19.0, 1.0, 18.0, 8.0, 20.0, 15.0])\n",
            "Deletion\n",
            "array('f', [24.0, 2.0, 13.0, 3.0, 19.0, 1.0, 18.0, 8.0, 20.0, 15.0])\n",
            "Search\n",
            "Enter element to be searched: 13\n",
            "2\n",
            "Updation\n",
            "array('f', [24.0, 2.0, 13.0, 87.0, 19.0, 1.0, 18.0, 8.0, 20.0, 15.0])\n",
            "\n",
            "array('d', [24.0, 2.0, 13.0, 3.0, 19.0, 1.0, 18.0, 8.0, 20.0, 15.0])\n",
            "Traversal\n",
            "24.0 2.0 13.0 3.0 19.0 1.0 18.0 8.0 20.0 15.0 \n",
            "Insertion: \n",
            "array('d', [24.0, 2.0, 13.0, 3.0, 19.0, 1.0, 18.0, 8.0, 20.0, 15.0])\n",
            "Deletion\n",
            "array('d', [24.0, 2.0, 13.0, 3.0, 19.0, 1.0, 18.0, 8.0, 20.0, 15.0])\n",
            "Search\n",
            "Enter element to be searched: 12\n",
            "Element not found\n",
            "Updation\n",
            "array('d', [24.0, 2.0, 13.0, 87.0, 19.0, 1.0, 18.0, 8.0, 20.0, 15.0])\n",
            "\n"
          ]
        }
      ]
    },
    {
      "cell_type": "markdown",
      "source": [
        "# Numpy"
      ],
      "metadata": {
        "id": "8xD3A4NBMyu1"
      }
    },
    {
      "cell_type": "markdown",
      "source": [
        "*Q1*"
      ],
      "metadata": {
        "id": "mRAd5LPpM0at"
      }
    },
    {
      "cell_type": "code",
      "source": [
        "dob = np.array([2003, 8, 5])\n",
        "print(dob)\n",
        "print(\"Year: \", dob[0])\n",
        "dob[0] = 2023\n",
        "print(dob)\n",
        "\n",
        "a1 = np.array(range(567, 890, 3))\n",
        "print(a1)\n",
        "print(\"8th Number\", a1[7])\n",
        "print(\"15th Number\", a1[14])\n"
      ],
      "metadata": {
        "colab": {
          "base_uri": "https://localhost:8080/"
        },
        "id": "codgl0xMM199",
        "outputId": "2f69ed3c-2d37-4c45-fc64-b48418302757"
      },
      "execution_count": 11,
      "outputs": [
        {
          "output_type": "stream",
          "name": "stdout",
          "text": [
            "[2003    8    5]\n",
            "Year:  2003\n",
            "[2023    8    5]\n",
            "[567 570 573 576 579 582 585 588 591 594 597 600 603 606 609 612 615 618\n",
            " 621 624 627 630 633 636 639 642 645 648 651 654 657 660 663 666 669 672\n",
            " 675 678 681 684 687 690 693 696 699 702 705 708 711 714 717 720 723 726\n",
            " 729 732 735 738 741 744 747 750 753 756 759 762 765 768 771 774 777 780\n",
            " 783 786 789 792 795 798 801 804 807 810 813 816 819 822 825 828 831 834\n",
            " 837 840 843 846 849 852 855 858 861 864 867 870 873 876 879 882 885 888]\n",
            "8th Number 588\n",
            "15th Number 609\n"
          ]
        }
      ]
    },
    {
      "cell_type": "code",
      "source": [
        "ra = np.random.randint(0, 100, (10, ))\n",
        "print(ra)\n",
        "print(\"Mean\", ra.mean())\n",
        "print(\"Standard Deviation\", ra.std())\n",
        "\n",
        "rb = np.random.randint(0, 100, (10,))\n",
        "print(rb)\n",
        "rc = np.zeros((10, ))\n",
        "print(rc)\n",
        "for i in range(len(rc)):\n",
        "  rc[i] = (ra[i] + rb[i]) /2\n",
        "print(\"After Averaging\")\n",
        "print(rc)\n",
        "print(rc.mean())\n",
        "rd = np.random.randint(0, 100, (10, )).astype(float)\n",
        "print(rd)\n",
        "print(\"Mean: \", rd.mean())\n",
        "#Mean would be approximately zero because of central limit theorem\n",
        "print(\"Standard Deviation: \", rd.std())\n",
        "print(\"Max\", max(rd), \", Min\", min(rd))\n"
      ],
      "metadata": {
        "colab": {
          "base_uri": "https://localhost:8080/"
        },
        "id": "LR9AC64qNbiO",
        "outputId": "42ee41e9-69bd-44f5-8ba1-b0edb71fb27e"
      },
      "execution_count": 82,
      "outputs": [
        {
          "output_type": "stream",
          "name": "stdout",
          "text": [
            "[50 46  9 76 62 15 11 12 33 92]\n",
            "Mean 40.6\n",
            "Standard Deviation 28.064924728208343\n",
            "[46 51 34 89 38 13 13 77 75 26]\n",
            "[0. 0. 0. 0. 0. 0. 0. 0. 0. 0.]\n",
            "After Averaging\n",
            "[48.  48.5 21.5 82.5 50.  14.  12.  44.5 54.  59. ]\n",
            "43.4\n",
            "[41. 63. 12.  6. 91. 50. 66.  6. 79. 79.]\n",
            "Mean:  49.3\n",
            "Standard Deviation:  30.29867983922732\n",
            "Max 91.0 , Min 6.0\n"
          ]
        }
      ]
    },
    {
      "cell_type": "code",
      "source": [
        "arr = np.random.randint(0, 100, (20, ))\n",
        "print(arr)\n",
        "print(\"Max\", max(arr))\n",
        "l = []\n",
        "for i in arr:\n",
        "  if i % 2 != 0:\n",
        "    l.append(i)\n",
        "print(l)\n",
        "l1 = []\n",
        "l1.append(l[0])\n",
        "l1.append(l[-1])\n",
        "print(l1)\n",
        "\n",
        "arr1 = np.random.randint(0, 1000, (20, )).astype(float)\n",
        "print(arr1)\n",
        "print(\"mean\", arr1.mean())\n",
        "arr2 = arr1[arr1 < arr1.mean()]\n",
        "print(arr2)\n",
        "arr3 = arr1[arr1 < arr.mean() - arr.std()]\n",
        "print(arr3)"
      ],
      "metadata": {
        "colab": {
          "base_uri": "https://localhost:8080/"
        },
        "id": "6S7VKnVfYYri",
        "outputId": "a9c826d5-5b57-49b6-8791-123b9a5a3fbd"
      },
      "execution_count": 103,
      "outputs": [
        {
          "output_type": "stream",
          "name": "stdout",
          "text": [
            "[19 57 30 72  9 32 66 49 14 14 11 93  7 96 13 56 98 19 21 36]\n",
            "Max 98\n",
            "[19, 57, 9, 49, 11, 93, 7, 13, 19, 21]\n",
            "[19, 21]\n",
            "[187. 745. 914. 452. 499. 443. 125. 425. 222. 202. 450. 475. 384. 741.\n",
            " 191.  61. 119. 374. 342. 170.]\n",
            "mean 376.05\n",
            "[187. 125. 222. 202. 191.  61. 119. 374. 342. 170.]\n",
            "[]\n"
          ]
        }
      ]
    },
    {
      "cell_type": "code",
      "source": [
        "arr = np.random.randint(0, 100, (10, ))\n",
        "print(arr)\n",
        "print(arr.mean())\n",
        "for i in range(len(arr)):\n",
        "  if (arr[i] > arr.mean() + arr.std()) or (arr[i] < arr.mean() - arr.std()):\n",
        "    arr[i] = arr.mean()\n",
        "print(arr)\n",
        "\n",
        "arr1 = np.random.randint(0, 100, (20, )).astype(float)\n",
        "print(arr1)\n",
        "print(\"Mean\", arr1.mean())\n",
        "print(\"Standard Deviation\", arr1.std())\n",
        "for i in range(len(arr1)):\n",
        "  if (int(arr1[i]) > arr1.mean() + arr1.std()) or (int(arr1[i]) < arr1.mean() - arr1.std()):\n",
        "    arr1[i] = arr1.mean()\n",
        "print(arr1)\n"
      ],
      "metadata": {
        "colab": {
          "base_uri": "https://localhost:8080/"
        },
        "id": "_0VEcNaeVp5b",
        "outputId": "8e2e6e22-a736-4cef-9fad-7a30ffa41210"
      },
      "execution_count": 97,
      "outputs": [
        {
          "output_type": "stream",
          "name": "stdout",
          "text": [
            "[64 35 96 64 95 36 97 52 23 59]\n",
            "62.1\n",
            "[64 62 64 64 61 58 60 52 56 59]\n",
            "[17. 25. 98. 12. 87. 17. 82. 84. 17. 18. 89. 36. 69. 51. 72.  9. 97. 68.\n",
            " 81. 36.]\n",
            "Mean 53.25\n",
            "Standard Deviation 31.57194165711067\n",
            "[53.25       25.         55.0625     52.915625   54.96140625 53.35947656\n",
            " 55.17745039 53.83632291 52.32813906 54.09454601 55.89927331 36.\n",
            " 69.         51.         72.         54.24423697 56.50644882 54.48177126\n",
            " 53.80585983 52.44615282]\n"
          ]
        }
      ]
    }
  ]
}