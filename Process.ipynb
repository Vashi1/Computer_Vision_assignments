{
 "cells": [
  {
   "cell_type": "markdown",
   "source": [
    "**Importing the Libraries**"
   ],
   "metadata": {
    "collapsed": false
   },
   "id": "5c627dbff3d8cbec"
  },
  {
   "cell_type": "code",
   "execution_count": 2,
   "id": "initial_id",
   "metadata": {
    "collapsed": true,
    "ExecuteTime": {
     "end_time": "2023-08-22T19:14:37.650052505Z",
     "start_time": "2023-08-22T19:14:37.447314344Z"
    }
   },
   "outputs": [],
   "source": [
    "import numpy as np\n",
    "import cv2"
   ]
  },
  {
   "cell_type": "markdown",
   "source": [
    "**Preprocessing the data**\n",
    "Resizing the image and changing it to greyscale"
   ],
   "metadata": {
    "collapsed": false
   },
   "id": "6743c90292d84740"
  },
  {
   "cell_type": "code",
   "execution_count": 3,
   "outputs": [
    {
     "name": "stderr",
     "output_type": "stream",
     "text": [
      "Warning: Ignoring XDG_SESSION_TYPE=wayland on Gnome. Use QT_QPA_PLATFORM=wayland to run on Wayland anyway.\n"
     ]
    },
    {
     "data": {
      "text/plain": "True"
     },
     "execution_count": 3,
     "metadata": {},
     "output_type": "execute_result"
    }
   ],
   "source": [
    "image = cv2.imread(\"Einstein.jpg\")\n",
    "gray_image = cv2.cvtColor(image, cv2.COLOR_BGR2GRAY)\n",
    "# print(gray_image.shape) #2666, 2000\n",
    "smol = cv2.resize(gray_image, (1000, 1000))\n",
    "cv2.imshow(\"New\", smol)\n",
    "cv2.imwrite(\"Einstein_modified.jpg\", smol)\n",
    "# cv2.waitKey(0)\n",
    "# cv2.destroyAllWindows()"
   ],
   "metadata": {
    "collapsed": false,
    "ExecuteTime": {
     "end_time": "2023-08-22T19:13:14.918206352Z",
     "start_time": "2023-08-22T19:13:14.004442042Z"
    }
   },
   "id": "86632781870c235d"
  },
  {
   "cell_type": "code",
   "execution_count": 3,
   "outputs": [],
   "source": [
    "filter = np.array([[0, 0, 0],\n",
    "                   [0, 1, 1],\n",
    "                   [0, 0, 0]])"
   ],
   "metadata": {
    "collapsed": false,
    "ExecuteTime": {
     "end_time": "2023-08-22T19:14:42.081492192Z",
     "start_time": "2023-08-22T19:14:42.077787422Z"
    }
   },
   "id": "28b4567b21a786f2"
  },
  {
   "cell_type": "code",
   "execution_count": null,
   "outputs": [],
   "source": [],
   "metadata": {
    "collapsed": false
   },
   "id": "37af4a24c7297aba"
  }
 ],
 "metadata": {
  "kernelspec": {
   "display_name": "Python 3",
   "language": "python",
   "name": "python3"
  },
  "language_info": {
   "codemirror_mode": {
    "name": "ipython",
    "version": 2
   },
   "file_extension": ".py",
   "mimetype": "text/x-python",
   "name": "python",
   "nbconvert_exporter": "python",
   "pygments_lexer": "ipython2",
   "version": "2.7.6"
  }
 },
 "nbformat": 4,
 "nbformat_minor": 5
}
